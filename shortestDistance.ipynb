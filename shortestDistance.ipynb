{
  "nbformat": 4,
  "nbformat_minor": 0,
  "metadata": {
    "colab": {
      "provenance": []
    },
    "kernelspec": {
      "name": "python3",
      "display_name": "Python 3"
    },
    "language_info": {
      "name": "python"
    }
  },
  "cells": [
    {
      "cell_type": "code",
      "execution_count": null,
      "metadata": {
        "id": "OVe80b86drpw"
      },
      "outputs": [],
      "source": [
        "from math import radians, cos, sin, asin, sqrt\n",
        "def distance(loc1,loc2):\n",
        "    lat1=loc1[0]\n",
        "    lon1=loc1[1]\n",
        "    lat2=loc2[0]\n",
        "    lon2=loc2[1]\n",
        "    # The math module contains a function named\n",
        "    # radians which converts from degrees to radians.\n",
        "    lon1 = radians(lon1)\n",
        "    lon2 = radians(lon2)\n",
        "    lat1 = radians(lat1)\n",
        "    lat2 = radians(lat2)\n",
        "\n",
        "    # Haversine formula\n",
        "    dlon = lon2 - lon1\n",
        "    dlat = lat2 - lat1\n",
        "    a = sin(dlat / 2)**2 + cos(lat1) * cos(lat2) * sin(dlon / 2)**2\n",
        "\n",
        "    c = 2 * asin(sqrt(a))\n",
        "\n",
        "    # Radius of earth in kilometers. Use 3956 for miles\n",
        "    r = 6371\n",
        "\n",
        "    # calculate the result\n",
        "    return(c * r)"
      ]
    },
    {
      "cell_type": "code",
      "source": [
        "def nearestCluster(startPos,allPos):\n",
        "  currShortestDistance=1000001\n",
        "  currShortestIndex=0\n",
        "  i=0\n",
        "  for pos in allPos:\n",
        "    tmpDis = distance(startPos,pos)\n",
        "    if (tmpDis<currShortestDistance):\n",
        "      currShortestDistance=tmpDis\n",
        "      currShortestIndex=i\n",
        "    i+=1\n",
        "  return allPos[currShortestIndex]\n"
      ],
      "metadata": {
        "id": "-PD5QcAwfMf6"
      },
      "execution_count": null,
      "outputs": []
    },
    {
      "cell_type": "code",
      "source": [],
      "metadata": {
        "id": "mBFRa4kXkxPD"
      },
      "execution_count": null,
      "outputs": []
    },
    {
      "cell_type": "code",
      "source": [
        "startPos=[29.31309664,30.84549315]\n",
        "allPos=[[29.41089313,30.86269592],[29.23869977,30.79355955],[29.36740351,30.68666862]]\n",
        "nearestCluster(startPos,allPos)"
      ],
      "metadata": {
        "colab": {
          "base_uri": "https://localhost:8080/"
        },
        "id": "Xe1pQl0Ujqkz",
        "outputId": "bcbdec3e-7ba3-4b97-8f12-e98f23f284f2"
      },
      "execution_count": null,
      "outputs": [
        {
          "output_type": "execute_result",
          "data": {
            "text/plain": [
              "[29.23869977, 30.79355955]"
            ]
          },
          "metadata": {},
          "execution_count": 3
        }
      ]
    }
  ]
}